{
 "cells": [
  {
   "cell_type": "code",
   "execution_count": 27,
   "id": "06868d0a-5d1b-41c0-84e7-66db9d9c495a",
   "metadata": {},
   "outputs": [
    {
     "name": "stdout",
     "output_type": "stream",
     "text": [
      "Logged in as: admin\n",
      "Current date and time: 2024-05-09 23:52:29.882831\n",
      "Dashboard functionalities:\n",
      "1. Add Books\n",
      "2. Issue Books\n",
      "3. Edit Books\n",
      "4. Return Books\n",
      "5. Delete Books\n",
      "6. Search Books\n",
      "7. Show Books\n",
      "8. Log out\n"
     ]
    },
    {
     "name": "stdin",
     "output_type": "stream",
     "text": [
      " 3\n",
      "Book ID:  002\n",
      "New Book Title:  The Best Lad\n",
      "New Book Author:  Maaz\n"
     ]
    },
    {
     "name": "stdout",
     "output_type": "stream",
     "text": [
      "Book 002 details updated.\n"
     ]
    },
    {
     "name": "stdin",
     "output_type": "stream",
     "text": [
      " 3\n",
      "Book ID:  002\n",
      "New Book Title:  The History of Larkana\n",
      "New Book Author:  Maaz\n"
     ]
    },
    {
     "name": "stdout",
     "output_type": "stream",
     "text": [
      "Book 002 details updated.\n"
     ]
    },
    {
     "name": "stdin",
     "output_type": "stream",
     "text": [
      " 2\n"
     ]
    },
    {
     "name": "stdout",
     "output_type": "stream",
     "text": [
      "Book ID: \n"
     ]
    },
    {
     "name": "stdin",
     "output_type": "stream",
     "text": [
      " 002\n"
     ]
    },
    {
     "name": "stdout",
     "output_type": "stream",
     "text": [
      "Book 002 issued.\n"
     ]
    },
    {
     "name": "stdin",
     "output_type": "stream",
     "text": [
      " 4\n",
      "Return Book ID:  004\n"
     ]
    },
    {
     "name": "stdout",
     "output_type": "stream",
     "text": [
      "Book not found or not issued.\n"
     ]
    },
    {
     "name": "stdin",
     "output_type": "stream",
     "text": [
      " 5\n",
      "Delete Book ID:  004\n"
     ]
    },
    {
     "name": "stdout",
     "output_type": "stream",
     "text": [
      "Successfully Deleted a Book\n"
     ]
    },
    {
     "name": "stdin",
     "output_type": "stream",
     "text": [
      " 6\n",
      "Search Book through ID:  004\n"
     ]
    },
    {
     "name": "stdout",
     "output_type": "stream",
     "text": [
      "Book not found.\n"
     ]
    },
    {
     "name": "stdin",
     "output_type": "stream",
     "text": [
      " 7\n"
     ]
    },
    {
     "name": "stdout",
     "output_type": "stream",
     "text": [
      "Library Books:\n",
      "ID: 002, Title: The History of Larkana, Author: Maaz\n",
      "ID: 003, Title: Harry the Worm, Author: Maaz Khan\n"
     ]
    },
    {
     "name": "stdin",
     "output_type": "stream",
     "text": [
      " 8\n"
     ]
    },
    {
     "name": "stdout",
     "output_type": "stream",
     "text": [
      "Logged out from the current admin session.\n"
     ]
    }
   ],
   "source": [
    "import datetime\n",
    "\n",
    "class Book:\n",
    "    def __init__(self, book_id, title, author):\n",
    "        self.book_id = book_id\n",
    "        self.title = title\n",
    "        self.author = author\n",
    "        self.issue_date = None\n",
    "\n",
    "class Library:\n",
    "    def __init__(self, filename):\n",
    "        self.file = filename\n",
    "        self.books = self.load_books()\n",
    "\n",
    "    \n",
    "\n",
    "    def load_books(self):\n",
    "        try:\n",
    "            with open(self.file, 'r') as f:\n",
    "                return [Book(*line.strip().split(',')) for line in f.readlines()]\n",
    "        except FileNotFoundError:\n",
    "            return []\n",
    "\n",
    "    def save_books(self):\n",
    "        with open(self.file, 'w') as f:\n",
    "            for book in self.books:\n",
    "                f.write(','.join([book.book_id, book.title, book.author]) + '\\n')\n",
    "\n",
    "    \n",
    "\n",
    "    def add_book(self, book_id, title, author):\n",
    "        self.books.append(Book(book_id, title, author))\n",
    "        self.save_books()\n",
    "        print(\"Successfully Added a Book\")\n",
    "\n",
    "    def issue_book(self, book_id):\n",
    "        for book in self.books:\n",
    "            if book.book_id == book_id and book.issue_date is None:\n",
    "                if len([b for b in self.books if b.issue_date is not None]) < 3:\n",
    "                    book.issue_date = datetime.datetime.now()\n",
    "                    print(f\"Book {book_id} issued.\")\n",
    "                    return\n",
    "                else:\n",
    "                    print(\"Maximum limit of issued books reached.\")\n",
    "                    return\n",
    "        print(\"Book not found or already issued.\")\n",
    "\n",
    "    def edit_book(self, book_id, new_title=None, new_author=None):\n",
    "        for book in self.books:\n",
    "            if book.book_id == book_id:\n",
    "                if new_title:\n",
    "                    book.title = new_title\n",
    "                if new_author:\n",
    "                    book.author = new_author\n",
    "                print(f\"Book {book_id} details updated.\")\n",
    "                return\n",
    "        print(\"Book not found.\")\n",
    "\n",
    "    def return_book(self, book_id):\n",
    "        for book in self.books:\n",
    "            if book.book_id == book_id and book.issue_date is not None:\n",
    "                days_issued = (datetime.datetime.now() - book.issue_date).days\n",
    "                book.issue_date = None\n",
    "                if days_issued > 14:\n",
    "                    print(f\"Book {book_id} returned. Fine to be paid: {days_issued - 14}\")\n",
    "                else:\n",
    "                    print(f\"Book {book_id} returned.\")\n",
    "                return\n",
    "        print(\"Book not found or not issued.\")\n",
    "        \n",
    "    def remove_book(self, book_id):\n",
    "        self.books = [book for book in self.books if book.book_id != book_id]\n",
    "        self.save_books()\n",
    "        print(\"Successfully Deleted a Book\")\n",
    "\n",
    "    def search_book(self, book_id):\n",
    "        for book in self.books:\n",
    "            if book.book_id == book_id:\n",
    "                print(f\"ID: {book.book_id}, Title: {book.title}, Author: {book.author}\")\n",
    "                return\n",
    "        print(\"Book not found.\")\n",
    "\n",
    "    def list_books(self):\n",
    "        print(\"Library Books:\")\n",
    "        for book in self.books:\n",
    "            print(f\"ID: {book.book_id}, Title: {book.title}, Author: {book.author}\")\n",
    "\n",
    "class Admin:\n",
    "    def __init__(self, id, password, library):\n",
    "        self.id = id\n",
    "        self.password = password\n",
    "        self.library = library\n",
    "\n",
    "    def login(self, id, password):\n",
    "        return self.id == id and self.password == password\n",
    "\n",
    "    def logout(self):\n",
    "        print(\"Logged out from the current admin session.\")\n",
    "\n",
    "    def change_password(self, new_password):\n",
    "        self.password = new_password\n",
    "        print(\"Password changed successfully.\")\n",
    "\n",
    "    def dashboard(self):\n",
    "        print(f\"Logged in as: {self.id}\")\n",
    "        print(f\"Current date and time: {datetime.datetime.now()}\")\n",
    "        print(\"Dashboard functionalities:\")\n",
    "        print(\"1. Add Books\")\n",
    "        print(\"2. Issue Books\")\n",
    "        print(\"3. Edit Books\")\n",
    "        print(\"4. Return Books\")\n",
    "        print(\"5. Delete Books\")\n",
    "        print(\"6. Search Books\")\n",
    "        print(\"7. Show Books\")\n",
    "        print(\"8. Log out\")\n",
    "\n",
    "\n",
    "\n",
    "\n",
    "\n",
    "library = Library('books.txt')\n",
    "admin = Admin('admin', 'admin123', library)\n",
    "admin.dashboard()\n",
    "\n",
    "a = True\n",
    "\n",
    "while a:\n",
    " c = int(input())\n",
    "\n",
    " if c == 1:\n",
    "    a = input(\"Book ID: \")\n",
    "    b = input(\"Book Title: \")\n",
    "    c = input(\"Book Author: \")\n",
    "    library.add_book(a, b, c)\n",
    "    \n",
    " elif c == 2:\n",
    "    print(\"Book ID: \")\n",
    "    a = input()\n",
    "    library.issue_book(a)\n",
    "    \n",
    " elif c == 3:\n",
    "    a = input(\"Book ID: \")\n",
    "    b = input(\"New Book Title: \")\n",
    "    c = input(\"New Book Author: \")\n",
    "    library.edit_book(a, b, c)\n",
    "\n",
    " elif c == 4:\n",
    "    a = input(\"Return Book ID: \")\n",
    "    library.return_book(a)\n",
    "     \n",
    " elif c == 5:\n",
    "    a = input(\"Delete Book ID: \")\n",
    "    library.remove_book(a)\n",
    "\n",
    " elif c == 6:\n",
    "    a = input(\"Search Book through ID: \")\n",
    "    library.search_book(a)\n",
    "    \n",
    " elif c == 7:\n",
    "    library.list_books()\n",
    "\n",
    " elif c == 8:\n",
    "    admin.logout()\n",
    "    a = False\n"
   ]
  },
  {
   "cell_type": "code",
   "execution_count": null,
   "id": "eb197de8-97ce-4767-a30c-f61f1f289027",
   "metadata": {},
   "outputs": [],
   "source": []
  }
 ],
 "metadata": {
  "kernelspec": {
   "display_name": "Python 3 (ipykernel)",
   "language": "python",
   "name": "python3"
  },
  "language_info": {
   "codemirror_mode": {
    "name": "ipython",
    "version": 3
   },
   "file_extension": ".py",
   "mimetype": "text/x-python",
   "name": "python",
   "nbconvert_exporter": "python",
   "pygments_lexer": "ipython3",
   "version": "3.11.7"
  }
 },
 "nbformat": 4,
 "nbformat_minor": 5
}
